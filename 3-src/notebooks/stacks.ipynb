{
 "cells": [
  {
   "cell_type": "markdown",
   "id": "geological-acting",
   "metadata": {},
   "source": [
    "<div align=\"right\" style=\"text-align:right\"><a rel=\"license\" href=\"http://creativecommons.org/licenses/by-nc-nd/4.0/\"><img alt=\"Licença Creative Commons\" style=\"border-width:0; float:right\" src=\"https://i.creativecommons.org/l/by-nc-nd/4.0/88x31.png\" /></a><br><br><i>Prof. Marcelo de Souza</i><br>marcelo.desouza@udesc.br</div>"
   ]
  },
  {
   "cell_type": "markdown",
   "id": "electric-pointer",
   "metadata": {},
   "source": [
    "# Pilhas\n",
    "\n",
    "Este material apresenta duas implementações de pilha. A primeira (*ArrayStack*) usa uma lista baseada em arranjo como estrutura interna. A segunda (*LinkedStack*) usa uma lista encadeada como estrutura interna.\n",
    "\n",
    "---"
   ]
  },
  {
   "cell_type": "markdown",
   "id": "f335a260-1d00-46b9-8c9a-c30dd75f42a2",
   "metadata": {},
   "source": [
    "## ArrayStack\n",
    "\n",
    "Implementaremos a pilha baseada em arranjo na classe ``ArrayStack``. Essa implementação terá capacidade estática."
   ]
  },
  {
   "cell_type": "code",
   "execution_count": 13,
   "id": "761077c8-6881-414a-b15d-88f419d098aa",
   "metadata": {},
   "outputs": [],
   "source": [
    "class ArrayStack:\n",
    "    def __init__(self):\n",
    "      self.data = []\n",
    "      self.size = 0\n",
    "\n",
    "    def __len__(self):\n",
    "        return self.size\n",
    "\n",
    "    def is_empty(self):\n",
    "        return self.size == 0\n",
    "    \n",
    "    def push(self, e):\n",
    "        self.data.append(e)\n",
    "        self.size += 1\n",
    "\n",
    "    def top(self):\n",
    "        if self.is_empty():\n",
    "            raise Exception(\"Stack is empty\")\n",
    "        return self.data[-1]\n",
    "        \n",
    "    def pop(self):\n",
    "        if self.is_empty():\n",
    "            raise Exception(\"Stack is empty\")\n",
    "        self.size -= 1\n",
    "        return self.data.pop(-1)\n",
    "\n",
    "    def __str__(self):\n",
    "        # Para imprimir a pilha (print)\n",
    "        content = '( '\n",
    "        for element in self.data:\n",
    "            content += element + ' '\n",
    "        content += ')'\n",
    "        return content"
   ]
  },
  {
   "cell_type": "markdown",
   "id": "f1f9838d-4be8-4be3-a0c7-76196441a3e8",
   "metadata": {},
   "source": [
    "### Usando a ArrayStack\n",
    "\n",
    "Agora podemos usar a pilha para armazenar elementos."
   ]
  },
  {
   "cell_type": "code",
   "execution_count": 17,
   "id": "c0388ea1-6b82-4de1-bb0f-17834b3d9243",
   "metadata": {},
   "outputs": [
    {
     "name": "stdout",
     "output_type": "stream",
     "text": [
      "( A B C D )\n",
      "4\n",
      "False\n",
      "F\n",
      "( A B C D E F )\n",
      "F\n",
      "( A B C D E )\n"
     ]
    }
   ],
   "source": [
    "S = ArrayStack()\n",
    "S.push('A')\n",
    "S.push('B')\n",
    "S.push('C')\n",
    "S.push('D')\n",
    "print(S)\n",
    "print(len(S))\n",
    "print(S.is_empty())\n",
    "S.push('E')\n",
    "S.push('F')\n",
    "print(S.top())\n",
    "print(S)\n",
    "print(S.pop())\n",
    "print(S)"
   ]
  },
  {
   "cell_type": "markdown",
   "id": "169340b8-2562-44d2-995d-32c447774c98",
   "metadata": {},
   "source": [
    "---\n",
    "\n",
    "## LinkedStack\n",
    "\n",
    "Implementaremos a pilha baseada em encadeamento na classe ``LinkedStack``. Para isso, vamos usar uma lista duplamente encadeada, implementada na classe ``LinkedList``."
   ]
  },
  {
   "cell_type": "code",
   "execution_count": 18,
   "id": "timely-dispatch",
   "metadata": {},
   "outputs": [],
   "source": [
    "class Node:\n",
    "    def __init__(self, element, prev, next):\n",
    "      self.element = element\n",
    "      self.prev = prev\n",
    "      self.next = next\n",
    "\n",
    "class LinkedList:\n",
    "    def __init__(self):\n",
    "        self.header = Node(None, None, None)\n",
    "        self.trailer = Node(None, None, None)\n",
    "        self.header.next = self.trailer\n",
    "        self.trailer.prev = self.header\n",
    "        self.size = 0\n",
    "\n",
    "    def __len__(self):\n",
    "        return self.size\n",
    "    \n",
    "    def is_empty(self):\n",
    "        return self.size == 0\n",
    "    \n",
    "    def __insert_between(self, e, predecessor, successor):\n",
    "        newest = Node(e, predecessor, successor)\n",
    "        predecessor.next = newest\n",
    "        successor.prev = newest\n",
    "        self.size += 1\n",
    "        return newest\n",
    "    \n",
    "    def __delete_node(self, node):\n",
    "        predecessor = node.prev\n",
    "        successor = node.next\n",
    "        predecessor.next = successor\n",
    "        successor.prev = predecessor\n",
    "        self.size -= 1\n",
    "        element = node.element\n",
    "        node.prev = node.next = node.element = None\n",
    "        return element\n",
    "\n",
    "    def first(self):\n",
    "        if self.is_empty():\n",
    "          raise Exception(\"List is empty\")\n",
    "        return self.header.next.element\n",
    "    \n",
    "    def last(self):\n",
    "        if self.is_empty():\n",
    "          raise Exception(\"List is empty\")\n",
    "        return self.trailer.prev.element\n",
    "    \n",
    "    def add_first(self, e):\n",
    "        self.__insert_between(e, self.header, self.header.next)\n",
    "    \n",
    "    def add_last(self, e):\n",
    "        self.__insert_between(e, self.trailer.prev, self.trailer)\n",
    "    \n",
    "    def remove_first(self):\n",
    "        if self.is_empty():\n",
    "          raise Exception(\"List is empty\")\n",
    "        return self.__delete_node(self.header.next)\n",
    "    \n",
    "    def remove_last(self):\n",
    "        if self.is_empty():\n",
    "          raise Exception(\"List is empty\")\n",
    "        return self.__delete_node(self.trailer.prev)\n",
    "\n",
    "    def __str__(self):\n",
    "        # Para imprimir a lista (print)\n",
    "        answer = '( '\n",
    "        walk = self.header.next\n",
    "        while walk != self.trailer:\n",
    "            answer += f'{walk.element} '\n",
    "            walk = walk.next\n",
    "        answer += ')'\n",
    "        return answer\n",
    "    \n",
    "    def index(self, e):\n",
    "        # Busca sequencial\n",
    "        if self.is_empty(): return -1\n",
    "        count = -1\n",
    "        walk = self.header.next\n",
    "        while walk != self.trailer:\n",
    "            count += 1\n",
    "            if walk.element == e:\n",
    "                return count\n",
    "            walk = walk.next\n",
    "        return -1"
   ]
  },
  {
   "cell_type": "markdown",
   "id": "129c43a4-91c3-4799-a755-6aac6420cf0b",
   "metadata": {},
   "source": [
    "Em vez de usar um arranjo ``data``, essa implementação usa uma lista duplamente encadeada ``llist``."
   ]
  },
  {
   "cell_type": "code",
   "execution_count": 25,
   "id": "e26d2c59-7d23-4031-b3dc-7b94e182849a",
   "metadata": {},
   "outputs": [],
   "source": [
    "class LinkedStack:\n",
    "    def __init__(self):\n",
    "      self.llist = LinkedList()\n",
    "      self.size = 0\n",
    "\n",
    "    def __len__(self):\n",
    "        return len(self.llist)\n",
    "\n",
    "    def is_empty(self):\n",
    "        return self.llist.is_empty()\n",
    "    \n",
    "    def push(self, e):\n",
    "        self.llist.add_first(e)\n",
    "\n",
    "    def top(self):\n",
    "        return self.llist.first()\n",
    "        \n",
    "    def pop(self):\n",
    "        if self.is_empty():\n",
    "            raise Exception(\"Stack is empty\")\n",
    "        self.size -= 1\n",
    "        return self.llist.remove_first()\n",
    "\n",
    "    def __str__(self):\n",
    "        # Para imprimir a pilha (print)\n",
    "        return str(self.llist)"
   ]
  },
  {
   "cell_type": "markdown",
   "id": "c37929b2-2637-468d-b62d-1f1327201d28",
   "metadata": {},
   "source": [
    "### Usando a LinkedStack\n",
    "\n",
    "Agora podemos usar a **nova** pilha para armazenar elementos.\n",
    "+ Note que a única modificação foi a criação da pilha S (que agora se trata de um objeto da classe ``LinkedStack``).\n",
    "+ Note também que a apresentação da pilha segue ordem inversa, pois o topo se encontra no início da lista. Você pode modificar a implementação para apresentar a pilha na mesma ordem apresentada pela pilha baseada em arranjo."
   ]
  },
  {
   "cell_type": "code",
   "execution_count": 26,
   "id": "7c28dc1b-a644-4d60-9e58-d0d058da1756",
   "metadata": {},
   "outputs": [
    {
     "name": "stdout",
     "output_type": "stream",
     "text": [
      "( D C B A )\n",
      "4\n",
      "False\n",
      "F\n",
      "( F E D C B A )\n",
      "F\n",
      "( E D C B A )\n"
     ]
    }
   ],
   "source": [
    "S = LinkedStack()\n",
    "S.push('A')\n",
    "S.push('B')\n",
    "S.push('C')\n",
    "S.push('D')\n",
    "print(S)\n",
    "print(len(S))\n",
    "print(S.is_empty())\n",
    "S.push('E')\n",
    "S.push('F')\n",
    "print(S.top())\n",
    "print(S)\n",
    "print(S.pop())\n",
    "print(S)"
   ]
  },
  {
   "cell_type": "markdown",
   "id": "2a06e1cf-2865-4402-a967-48f5cc121ea4",
   "metadata": {},
   "source": [
    "---\n",
    "\n",
    "## Exercitando\n",
    "\n",
    "Vamos usar nossas pilhas para armazenar os valores lidos por um sensor meteorológico. Esse sensor mede a temperatura, umidade relativa do ar e pressão atmosférica.\n",
    "\n",
    "O primeiro passo é criar uma classe ``Dado`` que armazenará esses valores."
   ]
  },
  {
   "cell_type": "code",
   "execution_count": 27,
   "id": "f02b7f4c-9051-4989-87e1-f149e1641392",
   "metadata": {},
   "outputs": [],
   "source": [
    "class Dado:\n",
    "    def __init__(self, temperatura, umidade, pressao):\n",
    "      self.temperatura = temperatura\n",
    "      self.umidade = umidade\n",
    "      self.pressao = pressao\n",
    "\n",
    "    # Implemente aqui outras funções úteis"
   ]
  },
  {
   "cell_type": "markdown",
   "id": "df045874-9d8e-4fb4-bb38-f16da5bfb3cd",
   "metadata": {},
   "source": [
    "Simule o funcionamento do sensor, gerando valores para os dados e armazenando na pilha."
   ]
  },
  {
   "cell_type": "code",
   "execution_count": 13,
   "id": "d345b763-9f94-4eb0-a792-f2052686db68",
   "metadata": {},
   "outputs": [],
   "source": [
    "# Implemente aqui"
   ]
  },
  {
   "cell_type": "markdown",
   "id": "480488ee-d0b3-48f0-bbbe-0c3a20277ae4",
   "metadata": {},
   "source": [
    "Mostre a ordem de leitura dos valores, apresentando o conteúdo da pilha."
   ]
  },
  {
   "cell_type": "code",
   "execution_count": 14,
   "id": "c8f98f6f-78e2-401b-86ce-b0bcad4862d4",
   "metadata": {},
   "outputs": [],
   "source": [
    "# Implemente aqui"
   ]
  },
  {
   "cell_type": "markdown",
   "id": "071a84be-0e79-460e-a54e-8406fb0e7498",
   "metadata": {},
   "source": [
    "Mostre os valores mais recentes lidos pelo sensor."
   ]
  },
  {
   "cell_type": "code",
   "execution_count": 15,
   "id": "a8469cf0-dc6c-4c2a-aea1-756ad5390eb5",
   "metadata": {},
   "outputs": [],
   "source": [
    "# Implemente aqui"
   ]
  },
  {
   "cell_type": "markdown",
   "id": "33e6fa02-1c87-4328-bf63-428fb35d32d8",
   "metadata": {},
   "source": [
    "Quando o dia termina (e.g. às 23h59min), os registros são removidos da pilha. Escreva uma função que remova todos os elementos da pilha. Além de limpar a pilha, seus registros devem ser retornados em uma lista simples."
   ]
  },
  {
   "cell_type": "code",
   "execution_count": null,
   "id": "5f5b3bf4-ecfe-4b8b-9645-3685f24b2764",
   "metadata": {},
   "outputs": [],
   "source": [
    "# Implemente aqui"
   ]
  }
 ],
 "metadata": {
  "kernelspec": {
   "display_name": "Python 3 (ipykernel)",
   "language": "python",
   "name": "python3"
  },
  "language_info": {
   "codemirror_mode": {
    "name": "ipython",
    "version": 3
   },
   "file_extension": ".py",
   "mimetype": "text/x-python",
   "name": "python",
   "nbconvert_exporter": "python",
   "pygments_lexer": "ipython3",
   "version": "3.10.17"
  }
 },
 "nbformat": 4,
 "nbformat_minor": 5
}
