{
 "cells": [
  {
   "cell_type": "markdown",
   "id": "geological-acting",
   "metadata": {},
   "source": [
    "<div align=\"right\" style=\"text-align:right\"><a rel=\"license\" href=\"http://creativecommons.org/licenses/by-nc-nd/4.0/\"><img alt=\"Licença Creative Commons\" style=\"border-width:0; float:right\" src=\"https://i.creativecommons.org/l/by-nc-nd/4.0/88x31.png\" /></a><br><br><i>Prof. Marcelo de Souza</i><br>marcelo.desouza@udesc.br</div>"
   ]
  },
  {
   "cell_type": "markdown",
   "id": "electric-pointer",
   "metadata": {},
   "source": [
    "# Filas\n",
    "\n",
    "Este material apresenta o uso de uma fila, fornecida pelo módulo ``queue``.\n",
    "\n",
    "---"
   ]
  },
  {
   "cell_type": "markdown",
   "id": "f335a260-1d00-46b9-8c9a-c30dd75f42a2",
   "metadata": {},
   "source": [
    "## Filas com o pacote *queue*\n",
    "\n",
    "Detalhes de implementação:\n",
    "+ Podemos definir uma capacidade máxima (com ``maxsize``). Se omitido ou ``maxsize = 0``, então a fila não terá capacidade estática.\n",
    "+ A inclusão (*enqueue*) é implementada pela função ``put``.\n",
    "+ A remoção (*dequeue*) é implementada pela função ``get``.\n",
    "+ Podemos gerar uma *string* com o conteúdo da fila com ``list(Q.queue)``."
   ]
  },
  {
   "cell_type": "code",
   "execution_count": 28,
   "id": "761077c8-6881-414a-b15d-88f419d098aa",
   "metadata": {},
   "outputs": [
    {
     "name": "stdout",
     "output_type": "stream",
     "text": [
      "0\n",
      "Empty:  True\n",
      "5\n",
      "Empty:  False\n",
      "['A', 'B', 'C', 'D', 'E']\n",
      "A\n",
      "B\n",
      "C\n",
      "2\n",
      "['D', 'E']\n"
     ]
    }
   ],
   "source": [
    "from queue import Queue\n",
    "\n",
    "Q = Queue(maxsize = 100)\n",
    "\n",
    "print(Q.qsize()) \n",
    "print(\"Empty: \", Q.empty())\n",
    "Q.put('A')\n",
    "Q.put('B')\n",
    "Q.put('C')\n",
    "Q.put('D')\n",
    "Q.put('E')\n",
    "print(Q.qsize()) \n",
    "print(\"Empty: \", Q.empty())\n",
    "print(list(Q.queue))\n",
    "\n",
    "print(Q.get())\n",
    "print(Q.get())\n",
    "print(Q.get())\n",
    "print(Q.qsize())\n",
    "print(list(Q.queue))"
   ]
  },
  {
   "cell_type": "markdown",
   "id": "2a06e1cf-2865-4402-a967-48f5cc121ea4",
   "metadata": {},
   "source": [
    "---\n",
    "\n",
    "## Exercitando\n",
    "\n",
    "Vamos usar a fila para simular uma fila de banco (sem considerar clientes com prioridade). Ao chegar na agência, o usuário informa seu CPF. O sistema faz a busca da pessoa e insere um registro na fila, contendo seu CPF e nome. Quando um atendente fica ocioso, ele usa o sistema para fazer a chamada do próximo cliente da fila.\n",
    "\n",
    "Primeiro, vamos criar a fila, sem uma capacidade máxima definida."
   ]
  },
  {
   "cell_type": "code",
   "execution_count": 30,
   "id": "f02b7f4c-9051-4989-87e1-f149e1641392",
   "metadata": {},
   "outputs": [],
   "source": [
    "from queue import Queue\n",
    "\n",
    "fila_banco = Queue()"
   ]
  },
  {
   "cell_type": "markdown",
   "id": "df045874-9d8e-4fb4-bb38-f16da5bfb3cd",
   "metadata": {},
   "source": [
    "Escreva uma função que simule a chegada de um cliente. Essa função deve gerar um CPF e nome aleatórios e incluir o registro correspondente na fila. O registro pode ser uma simples tupla com os dois dados."
   ]
  },
  {
   "cell_type": "code",
   "execution_count": 13,
   "id": "d345b763-9f94-4eb0-a792-f2052686db68",
   "metadata": {},
   "outputs": [],
   "source": [
    "# Implemente aqui"
   ]
  },
  {
   "cell_type": "markdown",
   "id": "480488ee-d0b3-48f0-bbbe-0c3a20277ae4",
   "metadata": {},
   "source": [
    "Escreva uma função para chamar o próximo cliente da fila, removendo-o da estrutura de dados e apresentando seus dados em tela."
   ]
  },
  {
   "cell_type": "code",
   "execution_count": 14,
   "id": "c8f98f6f-78e2-401b-86ce-b0bcad4862d4",
   "metadata": {},
   "outputs": [],
   "source": [
    "# Implemente aqui"
   ]
  },
  {
   "cell_type": "markdown",
   "id": "071a84be-0e79-460e-a54e-8406fb0e7498",
   "metadata": {},
   "source": [
    "Crie também uma rotina para mostrar a quantidade de clientes aguardando atendimento, e listar esses clientes (i.e., apresentá-los em tela)."
   ]
  },
  {
   "cell_type": "code",
   "execution_count": 15,
   "id": "a8469cf0-dc6c-4c2a-aea1-756ad5390eb5",
   "metadata": {},
   "outputs": [],
   "source": [
    "# Implemente aqui"
   ]
  },
  {
   "cell_type": "markdown",
   "id": "33e6fa02-1c87-4328-bf63-428fb35d32d8",
   "metadata": {},
   "source": [
    "Agora, podemos usar as funções implementadas para simular a chegada e chamada de clientes do banco, e o monitoramento da fila de clientes."
   ]
  },
  {
   "cell_type": "code",
   "execution_count": null,
   "id": "5f5b3bf4-ecfe-4b8b-9645-3685f24b2764",
   "metadata": {},
   "outputs": [],
   "source": [
    "# Implemente aqui"
   ]
  }
 ],
 "metadata": {
  "kernelspec": {
   "display_name": "Python 3 (ipykernel)",
   "language": "python",
   "name": "python3"
  },
  "language_info": {
   "codemirror_mode": {
    "name": "ipython",
    "version": 3
   },
   "file_extension": ".py",
   "mimetype": "text/x-python",
   "name": "python",
   "nbconvert_exporter": "python",
   "pygments_lexer": "ipython3",
   "version": "3.10.17"
  }
 },
 "nbformat": 4,
 "nbformat_minor": 5
}
