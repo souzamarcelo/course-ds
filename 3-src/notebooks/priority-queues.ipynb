{
 "cells": [
  {
   "cell_type": "markdown",
   "id": "geological-acting",
   "metadata": {},
   "source": [
    "<div align=\"right\" style=\"text-align:right\"><a rel=\"license\" href=\"http://creativecommons.org/licenses/by-nc-nd/4.0/\"><img alt=\"Licença Creative Commons\" style=\"border-width:0; float:right\" src=\"https://i.creativecommons.org/l/by-nc-nd/4.0/88x31.png\" /></a><br><br><i>Prof. Marcelo de Souza</i><br>marcelo.desouza@udesc.br</div>"
   ]
  },
  {
   "cell_type": "markdown",
   "id": "electric-pointer",
   "metadata": {},
   "source": [
    "# Filas de prioridade\n",
    "\n",
    "Este material apresenta o uso de filas de prioridade, usando a implementação fornecida pelo módulo `queue` (`PriorityQueue`).\n",
    "\n",
    "---"
   ]
  },
  {
   "cell_type": "markdown",
   "id": "f335a260-1d00-46b9-8c9a-c30dd75f42a2",
   "metadata": {},
   "source": [
    "## Filas de prioridade com *queue.PriorityQueue*\n",
    "\n",
    "Detalhes de implementação:\n",
    "+ É uma implementação baseada em heaps binárias (mais especificamente, uma *min-heap*).\n",
    "+ A função `min` pode ser obtida acessando `pq.queue[0]`, onde `pq` é a fila de prioridade.\n",
    "\n",
    "Neste primeiro exemplo, usaremos a fila de prioridade para armazenar números inteiros (i.e., somente a prioridade)."
   ]
  },
  {
   "cell_type": "code",
   "execution_count": 14,
   "id": "761077c8-6881-414a-b15d-88f419d098aa",
   "metadata": {},
   "outputs": [
    {
     "name": "stdout",
     "output_type": "stream",
     "text": [
      "[1, 3, 2, 4]\n",
      "1\n",
      "-3\n",
      "\n",
      "Removendo cada elemento da pq:\n",
      "-3\n",
      "2\n",
      "3\n",
      "4\n",
      "6\n",
      "8\n"
     ]
    }
   ],
   "source": [
    "from queue import PriorityQueue\n",
    "pq = PriorityQueue()\n",
    "pq.put(2)\n",
    "pq.put(3)\n",
    "pq.put(1)\n",
    "pq.put(4)\n",
    "print(pq.queue)\n",
    "print(pq.get())\n",
    "pq.put(6)\n",
    "pq.put(-3)\n",
    "pq.put(8)\n",
    "print(pq.queue[0]) # min\n",
    "\n",
    "print('\\nRemovendo cada elemento da pq:')\n",
    "while not pq.empty():\n",
    "     print(pq.get())"
   ]
  },
  {
   "cell_type": "markdown",
   "id": "67262da9-3a27-46a7-a4c8-3716fc82c915",
   "metadata": {},
   "source": [
    "Neste segundo exemplo, associaremos um nome (string) com um valor de prioridade. Se desejado/necessário, podemos substituir a string por um objeto de qualquer classe."
   ]
  },
  {
   "cell_type": "code",
   "execution_count": 16,
   "id": "bbd8a428-5d2c-49be-b82f-9106a17a1812",
   "metadata": {},
   "outputs": [
    {
     "name": "stdout",
     "output_type": "stream",
     "text": [
      "[(1, 'Ana'), (3, 'Maria'), (2, 'João'), (4, 'Pedro')]\n",
      "(1, 'Ana')\n",
      "(-3, 'Julia')\n",
      "\n",
      "Removendo cada elemento da pq:\n",
      "(-3, 'Julia')\n",
      "(2, 'João')\n",
      "(3, 'Maria')\n",
      "(4, 'Pedro')\n",
      "(6, 'Manuel')\n",
      "(8, 'Caio')\n"
     ]
    }
   ],
   "source": [
    "from queue import PriorityQueue\n",
    "pq = PriorityQueue()\n",
    "pq.put((2, 'João'))\n",
    "pq.put((3, 'Maria'))\n",
    "pq.put((1, 'Ana'))\n",
    "pq.put((4, 'Pedro'))\n",
    "print(pq.queue)\n",
    "print(pq.get())\n",
    "pq.put((6, 'Manuel'))\n",
    "pq.put((-3, 'Julia'))\n",
    "pq.put((8, 'Caio'))\n",
    "print(pq.queue[0]) # min\n",
    "\n",
    "print('\\nRemovendo cada elemento da pq:')\n",
    "while not pq.empty():\n",
    "     print(pq.get())"
   ]
  },
  {
   "cell_type": "markdown",
   "id": "2a06e1cf-2865-4402-a967-48f5cc121ea4",
   "metadata": {},
   "source": [
    "---\n",
    "\n",
    "## Exercitando\n",
    "\n",
    "Vamos usar uma fila de prioridades para implementar um gerenciador de tarefas de uma usina. Uma tarefa possui uma descrição, uma prioridade (*alta*, *normal* ou *baixa*) e um tempo de execução, que varia de 1 a 60 minutos. Caso duas tarefas possuam a mesma prioridade (e.g. *alta*), então a tarefa com menor tempo de execução terá prioridade. O gerenciador recebe novas tarefas e as mantém em uma fila de prioridades. Quando solicitado, o gerenciador retorna a tarefa a ser executada, removendo-a da fila.\n",
    "\n",
    "Primeiro, vamos criar a fila de prioridade."
   ]
  },
  {
   "cell_type": "code",
   "execution_count": 17,
   "id": "f02b7f4c-9051-4989-87e1-f149e1641392",
   "metadata": {},
   "outputs": [],
   "source": [
    "from queue import PriorityQueue\n",
    "pq = PriorityQueue()"
   ]
  },
  {
   "cell_type": "markdown",
   "id": "df045874-9d8e-4fb4-bb38-f16da5bfb3cd",
   "metadata": {},
   "source": [
    "Agora, escreva uma função que recebe uma tarefa e insere na fila."
   ]
  },
  {
   "cell_type": "code",
   "execution_count": 13,
   "id": "d345b763-9f94-4eb0-a792-f2052686db68",
   "metadata": {},
   "outputs": [],
   "source": [
    "# Implemente aqui"
   ]
  },
  {
   "cell_type": "markdown",
   "id": "480488ee-d0b3-48f0-bbbe-0c3a20277ae4",
   "metadata": {},
   "source": [
    "Escreva uma função que remove a tarefa prioritária da fila, apresente seus dados em tela e retorna o objeto correspondente."
   ]
  },
  {
   "cell_type": "code",
   "execution_count": 14,
   "id": "c8f98f6f-78e2-401b-86ce-b0bcad4862d4",
   "metadata": {},
   "outputs": [],
   "source": [
    "# Implemente aqui"
   ]
  },
  {
   "cell_type": "markdown",
   "id": "071a84be-0e79-460e-a54e-8406fb0e7498",
   "metadata": {},
   "source": [
    "Vamos simular e testar a estrutura. Gere 40 tarefas aleatoriamente e insira na fila de prioridade, usando a função implementada."
   ]
  },
  {
   "cell_type": "code",
   "execution_count": 15,
   "id": "a8469cf0-dc6c-4c2a-aea1-756ad5390eb5",
   "metadata": {},
   "outputs": [],
   "source": [
    "# Implemente aqui"
   ]
  },
  {
   "cell_type": "markdown",
   "id": "33e6fa02-1c87-4328-bf63-428fb35d32d8",
   "metadata": {},
   "source": [
    "A cada 10 segundos, use a função implementada para obter a próxima tarefa a ser executada, até que não haja mais tarefas na fila."
   ]
  },
  {
   "cell_type": "code",
   "execution_count": null,
   "id": "5f5b3bf4-ecfe-4b8b-9645-3685f24b2764",
   "metadata": {},
   "outputs": [],
   "source": [
    "# Implemente aqui"
   ]
  }
 ],
 "metadata": {
  "kernelspec": {
   "display_name": "Python 3 (ipykernel)",
   "language": "python",
   "name": "python3"
  },
  "language_info": {
   "codemirror_mode": {
    "name": "ipython",
    "version": 3
   },
   "file_extension": ".py",
   "mimetype": "text/x-python",
   "name": "python",
   "nbconvert_exporter": "python",
   "pygments_lexer": "ipython3",
   "version": "3.10.17"
  }
 },
 "nbformat": 4,
 "nbformat_minor": 5
}
