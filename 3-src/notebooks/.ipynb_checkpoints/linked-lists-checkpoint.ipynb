{
 "cells": [
  {
   "cell_type": "markdown",
   "id": "geological-acting",
   "metadata": {},
   "source": [
    "<div align=\"right\" style=\"text-align:right\"><a rel=\"license\" href=\"http://creativecommons.org/licenses/by-nc-nd/4.0/\"><img alt=\"Licença Creative Commons\" style=\"border-width:0; float:right\" src=\"https://i.creativecommons.org/l/by-nc-nd/4.0/88x31.png\" /></a><br><br><i>Prof. Marcelo de Souza</i><br>marcelo.desouza@udesc.br</div>"
   ]
  },
  {
   "cell_type": "markdown",
   "id": "electric-pointer",
   "metadata": {},
   "source": [
    "# Listas encadeadas\n",
    "\n",
    "Uma implementação de uma lista duplamente encadeada.\n",
    "+ Baseada em Goodrich, Tamassia e Goldwasser (2013), *Data Structures & Algorithms in Python*, Wiley.\n",
    "\n",
    "---"
   ]
  },
  {
   "cell_type": "markdown",
   "id": "f335a260-1d00-46b9-8c9a-c30dd75f42a2",
   "metadata": {},
   "source": [
    "## Classe Node\n",
    "\n",
    "A classe ``Node`` modela a estrutura do nodo, contendo o elemento a ser armazenado, o nodo anterior e o próximo nodo da lista."
   ]
  },
  {
   "cell_type": "code",
   "execution_count": 4,
   "id": "761077c8-6881-414a-b15d-88f419d098aa",
   "metadata": {},
   "outputs": [],
   "source": [
    "class Node:\n",
    "    def __init__(self, element, prev, next):\n",
    "      self._element = element\n",
    "      self._prev = prev\n",
    "      self._next = next"
   ]
  },
  {
   "cell_type": "markdown",
   "id": "169340b8-2562-44d2-995d-32c447774c98",
   "metadata": {},
   "source": [
    "## Classe LinkedList\n",
    "\n",
    "Nossa lista encadeada fornece funções para verificar seu tamanho, se está vazia, inserção e remoção nas extremidades."
   ]
  },
  {
   "cell_type": "code",
   "execution_count": 9,
   "id": "timely-dispatch",
   "metadata": {},
   "outputs": [],
   "source": [
    "class LinkedList:\n",
    "    def __init__(self):\n",
    "        self._header = Node(None, None, None)\n",
    "        self._trailer = Node(None, None, None)\n",
    "        self._header._next = self._trailer\n",
    "        self._trailer._prev = self._header\n",
    "        self._size = 0\n",
    "\n",
    "    def __len__(self):\n",
    "        return self._size\n",
    "    \n",
    "    def is_empty(self):\n",
    "        return self._size == 0\n",
    "    \n",
    "    def _insert_between(self, e, predecessor, successor):\n",
    "        newest = Node(e, predecessor, successor)\n",
    "        predecessor._next = newest\n",
    "        successor._prev = newest\n",
    "        self._size += 1\n",
    "        return newest\n",
    "    \n",
    "    def _delete_node(self, node):\n",
    "        predecessor = node._prev\n",
    "        successor = node._next\n",
    "        predecessor._next = successor\n",
    "        successor._prev = predecessor\n",
    "        self._size -= 1\n",
    "        element = node._element\n",
    "        node._prev = node._next = node._element = None\n",
    "        return element\n",
    "\n",
    "    def first(self):\n",
    "        if self.is_empty():\n",
    "          raise Exception(\"List is empty\")\n",
    "        return self._header._next._element\n",
    "    \n",
    "    def last(self):\n",
    "        if self.is_empty():\n",
    "          raise Exception(\"List is empty\")\n",
    "        return self._trailer._prev._element\n",
    "    \n",
    "    def add_first(self, e):\n",
    "        self._insert_between(e, self._header, self._header._next)\n",
    "    \n",
    "    def add_last(self, e):\n",
    "        self._insert_between(e, self._trailer._prev, self._trailer)\n",
    "    \n",
    "    def remove_first(self):\n",
    "        if self.is_empty():\n",
    "          raise Exception(\"List is empty\")\n",
    "        return self._delete_node(self._header._next)\n",
    "    \n",
    "    def remove_last(self):\n",
    "        if self.is_empty():\n",
    "          raise Exception(\"List is empty\")\n",
    "        return self._delete_node(self._trailer._prev)\n",
    "\n",
    "    def __str__(self):\n",
    "        # Para imprimir a lista (print)\n",
    "        answer = '( '\n",
    "        walk = self._header._next\n",
    "        while walk != self._trailer:\n",
    "            answer += f'{walk._element} '\n",
    "            walk = walk._next\n",
    "        answer += ')'\n",
    "        return answer\n",
    "    \n",
    "    def index(self, e):\n",
    "        # Busca sequencial\n",
    "        if self.is_empty(): return -1\n",
    "        count = -1\n",
    "        walk = self._header._next\n",
    "        while walk != self._trailer:\n",
    "            count += 1\n",
    "            if walk._element == e:\n",
    "                return count\n",
    "            walk = walk._next\n",
    "        return -1"
   ]
  },
  {
   "cell_type": "markdown",
   "id": "7fc8f404-97c7-43f1-835a-9514cf1447a6",
   "metadata": {},
   "source": [
    "## Usando a lista duplamente encadeada"
   ]
  },
  {
   "cell_type": "code",
   "execution_count": 10,
   "id": "2ace8084-4f00-49e9-95f3-c3f68e274e2d",
   "metadata": {},
   "outputs": [
    {
     "name": "stdout",
     "output_type": "stream",
     "text": [
      "( A B C D )\n",
      "First: A\n",
      "Last: D\n",
      "Deleting first: A\n",
      "Deleting last: D\n",
      "( B C )\n",
      "First: B\n",
      "Last: C\n",
      "Length: 2\n",
      "Empty? False\n"
     ]
    }
   ],
   "source": [
    "llist = LinkedList()\n",
    "llist.add_first('B')\n",
    "llist.add_first('A')\n",
    "llist.add_last('C')\n",
    "llist.add_last('D')\n",
    "\n",
    "print(llist)\n",
    "print('First:', llist.first())\n",
    "print('Last:', llist.last())\n",
    "print('Deleting first:', llist.remove_first())\n",
    "print('Deleting last:', llist.remove_last())\n",
    "print(llist)\n",
    "print('First:', llist.first())\n",
    "print('Last:', llist.last())\n",
    "print('Length:', len(llist))\n",
    "print('Empty?', llist.is_empty())"
   ]
  },
  {
   "cell_type": "markdown",
   "id": "e407db07-9fdd-41d6-b84e-944da8f53ad9",
   "metadata": {},
   "source": [
    "## Testando a busca sequencial"
   ]
  },
  {
   "cell_type": "code",
   "execution_count": 11,
   "id": "d8d08a83-3d88-4ce9-82e9-a776edcc5034",
   "metadata": {},
   "outputs": [
    {
     "name": "stdout",
     "output_type": "stream",
     "text": [
      "Index of C: 2\n",
      "Index of G: 6\n",
      "Index of K: -1\n"
     ]
    }
   ],
   "source": [
    "llist = LinkedList()\n",
    "llist.add_last('A')\n",
    "llist.add_last('B')\n",
    "llist.add_last('C')\n",
    "llist.add_last('D')\n",
    "llist.add_last('E')\n",
    "llist.add_last('F')\n",
    "llist.add_last('G')\n",
    "\n",
    "print('Index of C:', llist.index('C'))\n",
    "print('Index of G:', llist.index('G'))\n",
    "print('Index of K:', llist.index('K'))"
   ]
  },
  {
   "cell_type": "markdown",
   "id": "2a06e1cf-2865-4402-a967-48f5cc121ea4",
   "metadata": {},
   "source": [
    "## Exercitando\n",
    "\n",
    "Vamos usar nossa lista encadeada para armazenar livros. Cada livro possui um título, um autor e o ano de publicação.\n",
    "\n",
    "O primeiro passo é criar uma classe ``Livro``."
   ]
  },
  {
   "cell_type": "code",
   "execution_count": 12,
   "id": "f02b7f4c-9051-4989-87e1-f149e1641392",
   "metadata": {},
   "outputs": [],
   "source": [
    "class Livro:\n",
    "    def __init__(self, titulo, autor, ano):\n",
    "      self.ano = titulo\n",
    "      self.autor = autor\n",
    "      self.ano = ano"
   ]
  },
  {
   "cell_type": "markdown",
   "id": "df045874-9d8e-4fb4-bb38-f16da5bfb3cd",
   "metadata": {},
   "source": [
    "Agora, vamos criar a lista encadeada e inserir cinco livros na estrutura."
   ]
  },
  {
   "cell_type": "code",
   "execution_count": 13,
   "id": "d345b763-9f94-4eb0-a792-f2052686db68",
   "metadata": {},
   "outputs": [],
   "source": [
    "# Implemente aqui"
   ]
  },
  {
   "cell_type": "markdown",
   "id": "480488ee-d0b3-48f0-bbbe-0c3a20277ae4",
   "metadata": {},
   "source": [
    "Verifique o tamanho da lista encadeada e a apresente em tela."
   ]
  },
  {
   "cell_type": "code",
   "execution_count": 14,
   "id": "c8f98f6f-78e2-401b-86ce-b0bcad4862d4",
   "metadata": {},
   "outputs": [],
   "source": [
    "# Implemente aqui"
   ]
  },
  {
   "cell_type": "markdown",
   "id": "071a84be-0e79-460e-a54e-8406fb0e7498",
   "metadata": {},
   "source": [
    "Remova o primeiro e o último elementos, e veja a nova configuração da lista."
   ]
  },
  {
   "cell_type": "code",
   "execution_count": 15,
   "id": "a8469cf0-dc6c-4c2a-aea1-756ad5390eb5",
   "metadata": {},
   "outputs": [],
   "source": [
    "# Implemente aqui"
   ]
  }
 ],
 "metadata": {
  "kernelspec": {
   "display_name": "Python 3 (ipykernel)",
   "language": "python",
   "name": "python3"
  },
  "language_info": {
   "codemirror_mode": {
    "name": "ipython",
    "version": 3
   },
   "file_extension": ".py",
   "mimetype": "text/x-python",
   "name": "python",
   "nbconvert_exporter": "python",
   "pygments_lexer": "ipython3",
   "version": "3.10.17"
  }
 },
 "nbformat": 4,
 "nbformat_minor": 5
}
